{
 "cells": [
  {
   "cell_type": "code",
   "execution_count": 5,
   "metadata": {},
   "outputs": [
    {
     "name": "stdout",
     "output_type": "stream",
     "text": [
      "Requirement already satisfied: plotly in /Library/Frameworks/Python.framework/Versions/3.9/lib/python3.9/site-packages (5.14.1)\n",
      "Requirement already satisfied: tenacity>=6.2.0 in /Library/Frameworks/Python.framework/Versions/3.9/lib/python3.9/site-packages (from plotly) (8.2.2)\n",
      "Requirement already satisfied: packaging in /Users/rohtumm/Library/Python/3.9/lib/python/site-packages (from plotly) (23.0)\n",
      "\u001b[33mWARNING: You are using pip version 21.1.3; however, version 23.0.1 is available.\r\n",
      "You should consider upgrading via the '/usr/local/bin/python3 -m pip install --upgrade pip' command.\u001b[0m\r\n",
      "Note: you may need to restart the kernel to use updated packages.\n"
     ]
    }
   ],
   "source": [
    "%pip install plotly"
   ]
  },
  {
   "cell_type": "code",
   "execution_count": 1,
   "metadata": {},
   "outputs": [],
   "source": [
    "from nba_api.stats.endpoints import playercareerstats\n",
    "from matplotlib import pyplot as plt\n",
    "from matplotlib import image as img\n",
    "\n",
    "jokic_id = '203999'\n",
    "embiid_id = '203954'\n",
    "giannis_id = '203507'"
   ]
  },
  {
   "cell_type": "code",
   "execution_count": 3,
   "metadata": {},
   "outputs": [],
   "source": [
    "from nba_api.stats.endpoints import playerdashboardbyshootingsplits\n",
    "\n",
    "stats = playerdashboardbyshootingsplits.PlayerDashboardByShootingSplits(player_id=jokic_id)\n",
    "stats2 = playerdashboardbyshootingsplits.PlayerDashboardByShootingSplits(player_id=embiid_id)\n",
    "stats3 = playerdashboardbyshootingsplits.PlayerDashboardByShootingSplits(player_id=giannis_id)\n",
    "jokic_df = stats.get_data_frames()[5]\n",
    "embiid_df = stats2.get_data_frames()[5]\n",
    "giannis_df = stats3.get_data_frames()[5]"
   ]
  },
  {
   "cell_type": "code",
   "execution_count": 4,
   "metadata": {},
   "outputs": [
    {
     "data": {
      "text/html": [
       "<div>\n",
       "<style scoped>\n",
       "    .dataframe tbody tr th:only-of-type {\n",
       "        vertical-align: middle;\n",
       "    }\n",
       "\n",
       "    .dataframe tbody tr th {\n",
       "        vertical-align: top;\n",
       "    }\n",
       "\n",
       "    .dataframe thead th {\n",
       "        text-align: right;\n",
       "    }\n",
       "</style>\n",
       "<table border=\"1\" class=\"dataframe\">\n",
       "  <thead>\n",
       "    <tr style=\"text-align: right;\">\n",
       "      <th></th>\n",
       "      <th>GROUP_SET</th>\n",
       "      <th>GROUP_VALUE</th>\n",
       "      <th>FGM</th>\n",
       "      <th>FGA</th>\n",
       "      <th>FG_PCT</th>\n",
       "      <th>FG3M</th>\n",
       "      <th>FG3A</th>\n",
       "      <th>FG3_PCT</th>\n",
       "      <th>EFG_PCT</th>\n",
       "      <th>BLKA</th>\n",
       "      <th>PCT_AST_2PM</th>\n",
       "      <th>PCT_UAST_2PM</th>\n",
       "      <th>PCT_AST_3PM</th>\n",
       "      <th>PCT_UAST_3PM</th>\n",
       "      <th>PCT_AST_FGM</th>\n",
       "      <th>PCT_UAST_FGM</th>\n",
       "    </tr>\n",
       "  </thead>\n",
       "  <tbody>\n",
       "    <tr>\n",
       "      <th>0</th>\n",
       "      <td>Shot Type Summary</td>\n",
       "      <td>Bank Shot</td>\n",
       "      <td>12</td>\n",
       "      <td>21</td>\n",
       "      <td>0.571</td>\n",
       "      <td>2</td>\n",
       "      <td>3</td>\n",
       "      <td>0.667</td>\n",
       "      <td>0.619</td>\n",
       "      <td>0</td>\n",
       "      <td>0.600</td>\n",
       "      <td>0.400</td>\n",
       "      <td>1.000</td>\n",
       "      <td>0.000</td>\n",
       "      <td>0.667</td>\n",
       "      <td>0.333</td>\n",
       "    </tr>\n",
       "    <tr>\n",
       "      <th>1</th>\n",
       "      <td>Shot Type Summary</td>\n",
       "      <td>Dunk</td>\n",
       "      <td>75</td>\n",
       "      <td>87</td>\n",
       "      <td>0.862</td>\n",
       "      <td>0</td>\n",
       "      <td>0</td>\n",
       "      <td>0.000</td>\n",
       "      <td>0.862</td>\n",
       "      <td>8</td>\n",
       "      <td>0.747</td>\n",
       "      <td>0.253</td>\n",
       "      <td>0.000</td>\n",
       "      <td>0.000</td>\n",
       "      <td>0.747</td>\n",
       "      <td>0.253</td>\n",
       "    </tr>\n",
       "    <tr>\n",
       "      <th>2</th>\n",
       "      <td>Shot Type Summary</td>\n",
       "      <td>Hook Shot</td>\n",
       "      <td>19</td>\n",
       "      <td>35</td>\n",
       "      <td>0.543</td>\n",
       "      <td>0</td>\n",
       "      <td>0</td>\n",
       "      <td>0.000</td>\n",
       "      <td>0.543</td>\n",
       "      <td>1</td>\n",
       "      <td>0.368</td>\n",
       "      <td>0.632</td>\n",
       "      <td>0.000</td>\n",
       "      <td>0.000</td>\n",
       "      <td>0.368</td>\n",
       "      <td>0.632</td>\n",
       "    </tr>\n",
       "    <tr>\n",
       "      <th>3</th>\n",
       "      <td>Shot Type Summary</td>\n",
       "      <td>Alley Oop</td>\n",
       "      <td>9</td>\n",
       "      <td>10</td>\n",
       "      <td>0.900</td>\n",
       "      <td>0</td>\n",
       "      <td>0</td>\n",
       "      <td>0.000</td>\n",
       "      <td>0.900</td>\n",
       "      <td>0</td>\n",
       "      <td>1.000</td>\n",
       "      <td>0.000</td>\n",
       "      <td>0.000</td>\n",
       "      <td>0.000</td>\n",
       "      <td>1.000</td>\n",
       "      <td>0.000</td>\n",
       "    </tr>\n",
       "    <tr>\n",
       "      <th>4</th>\n",
       "      <td>Shot Type Summary</td>\n",
       "      <td>Fadeaway</td>\n",
       "      <td>68</td>\n",
       "      <td>152</td>\n",
       "      <td>0.447</td>\n",
       "      <td>2</td>\n",
       "      <td>4</td>\n",
       "      <td>0.500</td>\n",
       "      <td>0.454</td>\n",
       "      <td>4</td>\n",
       "      <td>0.455</td>\n",
       "      <td>0.545</td>\n",
       "      <td>0.000</td>\n",
       "      <td>1.000</td>\n",
       "      <td>0.441</td>\n",
       "      <td>0.559</td>\n",
       "    </tr>\n",
       "    <tr>\n",
       "      <th>5</th>\n",
       "      <td>Shot Type Summary</td>\n",
       "      <td>Finger Roll</td>\n",
       "      <td>42</td>\n",
       "      <td>52</td>\n",
       "      <td>0.808</td>\n",
       "      <td>0</td>\n",
       "      <td>0</td>\n",
       "      <td>0.000</td>\n",
       "      <td>0.808</td>\n",
       "      <td>1</td>\n",
       "      <td>0.714</td>\n",
       "      <td>0.286</td>\n",
       "      <td>0.000</td>\n",
       "      <td>0.000</td>\n",
       "      <td>0.714</td>\n",
       "      <td>0.286</td>\n",
       "    </tr>\n",
       "    <tr>\n",
       "      <th>6</th>\n",
       "      <td>Shot Type Summary</td>\n",
       "      <td>Jump Shot</td>\n",
       "      <td>350</td>\n",
       "      <td>767</td>\n",
       "      <td>0.456</td>\n",
       "      <td>66</td>\n",
       "      <td>199</td>\n",
       "      <td>0.332</td>\n",
       "      <td>0.499</td>\n",
       "      <td>30</td>\n",
       "      <td>0.585</td>\n",
       "      <td>0.415</td>\n",
       "      <td>0.894</td>\n",
       "      <td>0.106</td>\n",
       "      <td>0.643</td>\n",
       "      <td>0.357</td>\n",
       "    </tr>\n",
       "    <tr>\n",
       "      <th>7</th>\n",
       "      <td>Shot Type Summary</td>\n",
       "      <td>Layup</td>\n",
       "      <td>258</td>\n",
       "      <td>375</td>\n",
       "      <td>0.688</td>\n",
       "      <td>0</td>\n",
       "      <td>0</td>\n",
       "      <td>0.000</td>\n",
       "      <td>0.688</td>\n",
       "      <td>50</td>\n",
       "      <td>0.609</td>\n",
       "      <td>0.391</td>\n",
       "      <td>0.000</td>\n",
       "      <td>0.000</td>\n",
       "      <td>0.609</td>\n",
       "      <td>0.391</td>\n",
       "    </tr>\n",
       "    <tr>\n",
       "      <th>8</th>\n",
       "      <td>Shot Type Summary</td>\n",
       "      <td>Tip Shot</td>\n",
       "      <td>12</td>\n",
       "      <td>25</td>\n",
       "      <td>0.480</td>\n",
       "      <td>0</td>\n",
       "      <td>0</td>\n",
       "      <td>0.000</td>\n",
       "      <td>0.480</td>\n",
       "      <td>0</td>\n",
       "      <td>0.000</td>\n",
       "      <td>1.000</td>\n",
       "      <td>0.000</td>\n",
       "      <td>0.000</td>\n",
       "      <td>0.000</td>\n",
       "      <td>1.000</td>\n",
       "    </tr>\n",
       "  </tbody>\n",
       "</table>\n",
       "</div>"
      ],
      "text/plain": [
       "           GROUP_SET  GROUP_VALUE  FGM  FGA  FG_PCT  FG3M  FG3A  FG3_PCT  \\\n",
       "0  Shot Type Summary    Bank Shot   12   21   0.571     2     3    0.667   \n",
       "1  Shot Type Summary         Dunk   75   87   0.862     0     0    0.000   \n",
       "2  Shot Type Summary    Hook Shot   19   35   0.543     0     0    0.000   \n",
       "3  Shot Type Summary    Alley Oop    9   10   0.900     0     0    0.000   \n",
       "4  Shot Type Summary     Fadeaway   68  152   0.447     2     4    0.500   \n",
       "5  Shot Type Summary  Finger Roll   42   52   0.808     0     0    0.000   \n",
       "6  Shot Type Summary    Jump Shot  350  767   0.456    66   199    0.332   \n",
       "7  Shot Type Summary        Layup  258  375   0.688     0     0    0.000   \n",
       "8  Shot Type Summary     Tip Shot   12   25   0.480     0     0    0.000   \n",
       "\n",
       "   EFG_PCT  BLKA  PCT_AST_2PM  PCT_UAST_2PM  PCT_AST_3PM  PCT_UAST_3PM  \\\n",
       "0    0.619     0        0.600         0.400        1.000         0.000   \n",
       "1    0.862     8        0.747         0.253        0.000         0.000   \n",
       "2    0.543     1        0.368         0.632        0.000         0.000   \n",
       "3    0.900     0        1.000         0.000        0.000         0.000   \n",
       "4    0.454     4        0.455         0.545        0.000         1.000   \n",
       "5    0.808     1        0.714         0.286        0.000         0.000   \n",
       "6    0.499    30        0.585         0.415        0.894         0.106   \n",
       "7    0.688    50        0.609         0.391        0.000         0.000   \n",
       "8    0.480     0        0.000         1.000        0.000         0.000   \n",
       "\n",
       "   PCT_AST_FGM  PCT_UAST_FGM  \n",
       "0        0.667         0.333  \n",
       "1        0.747         0.253  \n",
       "2        0.368         0.632  \n",
       "3        1.000         0.000  \n",
       "4        0.441         0.559  \n",
       "5        0.714         0.286  \n",
       "6        0.643         0.357  \n",
       "7        0.609         0.391  \n",
       "8        0.000         1.000  "
      ]
     },
     "execution_count": 4,
     "metadata": {},
     "output_type": "execute_result"
    }
   ],
   "source": [
    "embiid_df"
   ]
  },
  {
   "cell_type": "code",
   "execution_count": 5,
   "metadata": {},
   "outputs": [
    {
     "data": {
      "text/html": [
       "<div>\n",
       "<style scoped>\n",
       "    .dataframe tbody tr th:only-of-type {\n",
       "        vertical-align: middle;\n",
       "    }\n",
       "\n",
       "    .dataframe tbody tr th {\n",
       "        vertical-align: top;\n",
       "    }\n",
       "\n",
       "    .dataframe thead th {\n",
       "        text-align: right;\n",
       "    }\n",
       "</style>\n",
       "<table border=\"1\" class=\"dataframe\">\n",
       "  <thead>\n",
       "    <tr style=\"text-align: right;\">\n",
       "      <th></th>\n",
       "      <th>GROUP_SET</th>\n",
       "      <th>GROUP_VALUE</th>\n",
       "      <th>FGM</th>\n",
       "      <th>FGA</th>\n",
       "      <th>FG_PCT</th>\n",
       "      <th>FG3M</th>\n",
       "      <th>FG3A</th>\n",
       "      <th>FG3_PCT</th>\n",
       "      <th>EFG_PCT</th>\n",
       "      <th>BLKA</th>\n",
       "      <th>PCT_AST_2PM</th>\n",
       "      <th>PCT_UAST_2PM</th>\n",
       "      <th>PCT_AST_3PM</th>\n",
       "      <th>PCT_UAST_3PM</th>\n",
       "      <th>PCT_AST_FGM</th>\n",
       "      <th>PCT_UAST_FGM</th>\n",
       "    </tr>\n",
       "  </thead>\n",
       "  <tbody>\n",
       "    <tr>\n",
       "      <th>0</th>\n",
       "      <td>Shot Type Summary</td>\n",
       "      <td>Alley Oop</td>\n",
       "      <td>42</td>\n",
       "      <td>51</td>\n",
       "      <td>0.824</td>\n",
       "      <td>0</td>\n",
       "      <td>0</td>\n",
       "      <td>0.000</td>\n",
       "      <td>0.824</td>\n",
       "      <td>1</td>\n",
       "      <td>1.000</td>\n",
       "      <td>0.000</td>\n",
       "      <td>0.000</td>\n",
       "      <td>0.000</td>\n",
       "      <td>1.000</td>\n",
       "      <td>0.000</td>\n",
       "    </tr>\n",
       "    <tr>\n",
       "      <th>1</th>\n",
       "      <td>Shot Type Summary</td>\n",
       "      <td>Bank Shot</td>\n",
       "      <td>15</td>\n",
       "      <td>27</td>\n",
       "      <td>0.556</td>\n",
       "      <td>0</td>\n",
       "      <td>0</td>\n",
       "      <td>0.000</td>\n",
       "      <td>0.556</td>\n",
       "      <td>0</td>\n",
       "      <td>0.400</td>\n",
       "      <td>0.600</td>\n",
       "      <td>0.000</td>\n",
       "      <td>0.000</td>\n",
       "      <td>0.400</td>\n",
       "      <td>0.600</td>\n",
       "    </tr>\n",
       "    <tr>\n",
       "      <th>2</th>\n",
       "      <td>Shot Type Summary</td>\n",
       "      <td>Dunk</td>\n",
       "      <td>198</td>\n",
       "      <td>212</td>\n",
       "      <td>0.934</td>\n",
       "      <td>0</td>\n",
       "      <td>0</td>\n",
       "      <td>0.000</td>\n",
       "      <td>0.934</td>\n",
       "      <td>3</td>\n",
       "      <td>0.566</td>\n",
       "      <td>0.434</td>\n",
       "      <td>0.000</td>\n",
       "      <td>0.000</td>\n",
       "      <td>0.566</td>\n",
       "      <td>0.434</td>\n",
       "    </tr>\n",
       "    <tr>\n",
       "      <th>3</th>\n",
       "      <td>Shot Type Summary</td>\n",
       "      <td>Fadeaway</td>\n",
       "      <td>28</td>\n",
       "      <td>74</td>\n",
       "      <td>0.378</td>\n",
       "      <td>0</td>\n",
       "      <td>0</td>\n",
       "      <td>0.000</td>\n",
       "      <td>0.378</td>\n",
       "      <td>0</td>\n",
       "      <td>0.250</td>\n",
       "      <td>0.750</td>\n",
       "      <td>0.000</td>\n",
       "      <td>0.000</td>\n",
       "      <td>0.250</td>\n",
       "      <td>0.750</td>\n",
       "    </tr>\n",
       "    <tr>\n",
       "      <th>4</th>\n",
       "      <td>Shot Type Summary</td>\n",
       "      <td>Finger Roll</td>\n",
       "      <td>133</td>\n",
       "      <td>163</td>\n",
       "      <td>0.816</td>\n",
       "      <td>0</td>\n",
       "      <td>0</td>\n",
       "      <td>0.000</td>\n",
       "      <td>0.816</td>\n",
       "      <td>4</td>\n",
       "      <td>0.383</td>\n",
       "      <td>0.617</td>\n",
       "      <td>0.000</td>\n",
       "      <td>0.000</td>\n",
       "      <td>0.383</td>\n",
       "      <td>0.617</td>\n",
       "    </tr>\n",
       "    <tr>\n",
       "      <th>5</th>\n",
       "      <td>Shot Type Summary</td>\n",
       "      <td>Hook Shot</td>\n",
       "      <td>22</td>\n",
       "      <td>51</td>\n",
       "      <td>0.431</td>\n",
       "      <td>0</td>\n",
       "      <td>0</td>\n",
       "      <td>0.000</td>\n",
       "      <td>0.431</td>\n",
       "      <td>2</td>\n",
       "      <td>0.500</td>\n",
       "      <td>0.500</td>\n",
       "      <td>0.000</td>\n",
       "      <td>0.000</td>\n",
       "      <td>0.500</td>\n",
       "      <td>0.500</td>\n",
       "    </tr>\n",
       "    <tr>\n",
       "      <th>6</th>\n",
       "      <td>Shot Type Summary</td>\n",
       "      <td>Jump Shot</td>\n",
       "      <td>120</td>\n",
       "      <td>397</td>\n",
       "      <td>0.302</td>\n",
       "      <td>47</td>\n",
       "      <td>171</td>\n",
       "      <td>0.275</td>\n",
       "      <td>0.361</td>\n",
       "      <td>6</td>\n",
       "      <td>0.315</td>\n",
       "      <td>0.685</td>\n",
       "      <td>0.617</td>\n",
       "      <td>0.383</td>\n",
       "      <td>0.433</td>\n",
       "      <td>0.567</td>\n",
       "    </tr>\n",
       "    <tr>\n",
       "      <th>7</th>\n",
       "      <td>Shot Type Summary</td>\n",
       "      <td>Layup</td>\n",
       "      <td>346</td>\n",
       "      <td>566</td>\n",
       "      <td>0.611</td>\n",
       "      <td>0</td>\n",
       "      <td>0</td>\n",
       "      <td>0.000</td>\n",
       "      <td>0.611</td>\n",
       "      <td>71</td>\n",
       "      <td>0.353</td>\n",
       "      <td>0.647</td>\n",
       "      <td>0.000</td>\n",
       "      <td>0.000</td>\n",
       "      <td>0.353</td>\n",
       "      <td>0.647</td>\n",
       "    </tr>\n",
       "    <tr>\n",
       "      <th>8</th>\n",
       "      <td>Shot Type Summary</td>\n",
       "      <td>Tip Shot</td>\n",
       "      <td>21</td>\n",
       "      <td>26</td>\n",
       "      <td>0.808</td>\n",
       "      <td>0</td>\n",
       "      <td>0</td>\n",
       "      <td>0.000</td>\n",
       "      <td>0.808</td>\n",
       "      <td>0</td>\n",
       "      <td>0.000</td>\n",
       "      <td>1.000</td>\n",
       "      <td>0.000</td>\n",
       "      <td>0.000</td>\n",
       "      <td>0.000</td>\n",
       "      <td>1.000</td>\n",
       "    </tr>\n",
       "  </tbody>\n",
       "</table>\n",
       "</div>"
      ],
      "text/plain": [
       "           GROUP_SET  GROUP_VALUE  FGM  FGA  FG_PCT  FG3M  FG3A  FG3_PCT  \\\n",
       "0  Shot Type Summary    Alley Oop   42   51   0.824     0     0    0.000   \n",
       "1  Shot Type Summary    Bank Shot   15   27   0.556     0     0    0.000   \n",
       "2  Shot Type Summary         Dunk  198  212   0.934     0     0    0.000   \n",
       "3  Shot Type Summary     Fadeaway   28   74   0.378     0     0    0.000   \n",
       "4  Shot Type Summary  Finger Roll  133  163   0.816     0     0    0.000   \n",
       "5  Shot Type Summary    Hook Shot   22   51   0.431     0     0    0.000   \n",
       "6  Shot Type Summary    Jump Shot  120  397   0.302    47   171    0.275   \n",
       "7  Shot Type Summary        Layup  346  566   0.611     0     0    0.000   \n",
       "8  Shot Type Summary     Tip Shot   21   26   0.808     0     0    0.000   \n",
       "\n",
       "   EFG_PCT  BLKA  PCT_AST_2PM  PCT_UAST_2PM  PCT_AST_3PM  PCT_UAST_3PM  \\\n",
       "0    0.824     1        1.000         0.000        0.000         0.000   \n",
       "1    0.556     0        0.400         0.600        0.000         0.000   \n",
       "2    0.934     3        0.566         0.434        0.000         0.000   \n",
       "3    0.378     0        0.250         0.750        0.000         0.000   \n",
       "4    0.816     4        0.383         0.617        0.000         0.000   \n",
       "5    0.431     2        0.500         0.500        0.000         0.000   \n",
       "6    0.361     6        0.315         0.685        0.617         0.383   \n",
       "7    0.611    71        0.353         0.647        0.000         0.000   \n",
       "8    0.808     0        0.000         1.000        0.000         0.000   \n",
       "\n",
       "   PCT_AST_FGM  PCT_UAST_FGM  \n",
       "0        1.000         0.000  \n",
       "1        0.400         0.600  \n",
       "2        0.566         0.434  \n",
       "3        0.250         0.750  \n",
       "4        0.383         0.617  \n",
       "5        0.500         0.500  \n",
       "6        0.433         0.567  \n",
       "7        0.353         0.647  \n",
       "8        0.000         1.000  "
      ]
     },
     "execution_count": 5,
     "metadata": {},
     "output_type": "execute_result"
    }
   ],
   "source": [
    "giannis_df"
   ]
  },
  {
   "cell_type": "code",
   "execution_count": 6,
   "metadata": {},
   "outputs": [],
   "source": [
    "FGM_UAST = []\n",
    "FGM_AST = []\n",
    "\n",
    "FGM_UAST2 = []\n",
    "FGM_AST2 = []\n",
    "\n",
    "FGM_UAST3 = []\n",
    "FGM_AST3 = []\n",
    "\n",
    "for index, row in jokic_df.iterrows():\n",
    "    FGM_UAST.append(round(row[2]*row[15]))\n",
    "    FGM_AST.append(round(row[2]*row[14]))\n",
    "\n",
    "for index, row in embiid_df.iterrows():\n",
    "    FGM_UAST2.append(round(row[2]*row[15]))\n",
    "    FGM_AST2.append(round(row[2]*row[14]))\n",
    "\n",
    "for index, row in giannis_df.iterrows():\n",
    "    FGM_UAST3.append(round(row[2]*row[15]))\n",
    "    FGM_AST3.append(round(row[2]*row[14]))\n",
    "\n",
    "#print(FGM_UAST)\n",
    "#print(FGM_AST)\n",
    "\n",
    "jokic_df['FGM_UAST'] = FGM_UAST\n",
    "jokic_df['FGM_AST'] = FGM_AST\n",
    "\n",
    "embiid_df['FGM_UAST'] = FGM_UAST2\n",
    "embiid_df['FGM_AST'] = FGM_AST2\n",
    "\n",
    "giannis_df['FGM_UAST'] = FGM_UAST3\n",
    "giannis_df['FGM_AST'] = FGM_AST3"
   ]
  },
  {
   "cell_type": "code",
   "execution_count": 7,
   "metadata": {},
   "outputs": [
    {
     "data": {
      "text/html": [
       "<div>\n",
       "<style scoped>\n",
       "    .dataframe tbody tr th:only-of-type {\n",
       "        vertical-align: middle;\n",
       "    }\n",
       "\n",
       "    .dataframe tbody tr th {\n",
       "        vertical-align: top;\n",
       "    }\n",
       "\n",
       "    .dataframe thead th {\n",
       "        text-align: right;\n",
       "    }\n",
       "</style>\n",
       "<table border=\"1\" class=\"dataframe\">\n",
       "  <thead>\n",
       "    <tr style=\"text-align: right;\">\n",
       "      <th></th>\n",
       "      <th>GROUP_SET</th>\n",
       "      <th>GROUP_VALUE</th>\n",
       "      <th>FGM</th>\n",
       "      <th>FGA</th>\n",
       "      <th>FG_PCT</th>\n",
       "      <th>FG3M</th>\n",
       "      <th>FG3A</th>\n",
       "      <th>FG3_PCT</th>\n",
       "      <th>EFG_PCT</th>\n",
       "      <th>BLKA</th>\n",
       "      <th>PCT_AST_2PM</th>\n",
       "      <th>PCT_UAST_2PM</th>\n",
       "      <th>PCT_AST_3PM</th>\n",
       "      <th>PCT_UAST_3PM</th>\n",
       "      <th>PCT_AST_FGM</th>\n",
       "      <th>PCT_UAST_FGM</th>\n",
       "      <th>FGM_UAST</th>\n",
       "      <th>FGM_AST</th>\n",
       "    </tr>\n",
       "  </thead>\n",
       "  <tbody>\n",
       "    <tr>\n",
       "      <th>0</th>\n",
       "      <td>Shot Type Summary</td>\n",
       "      <td>Alley Oop</td>\n",
       "      <td>0</td>\n",
       "      <td>1</td>\n",
       "      <td>0.000</td>\n",
       "      <td>0</td>\n",
       "      <td>0</td>\n",
       "      <td>0.000</td>\n",
       "      <td>0.000</td>\n",
       "      <td>0</td>\n",
       "      <td>0.000</td>\n",
       "      <td>0.000</td>\n",
       "      <td>0.000</td>\n",
       "      <td>0.000</td>\n",
       "      <td>0.000</td>\n",
       "      <td>0.000</td>\n",
       "      <td>0</td>\n",
       "      <td>0</td>\n",
       "    </tr>\n",
       "    <tr>\n",
       "      <th>1</th>\n",
       "      <td>Shot Type Summary</td>\n",
       "      <td>Bank Shot</td>\n",
       "      <td>19</td>\n",
       "      <td>24</td>\n",
       "      <td>0.792</td>\n",
       "      <td>0</td>\n",
       "      <td>0</td>\n",
       "      <td>0.000</td>\n",
       "      <td>0.792</td>\n",
       "      <td>0</td>\n",
       "      <td>0.632</td>\n",
       "      <td>0.368</td>\n",
       "      <td>0.000</td>\n",
       "      <td>0.000</td>\n",
       "      <td>0.632</td>\n",
       "      <td>0.368</td>\n",
       "      <td>7</td>\n",
       "      <td>12</td>\n",
       "    </tr>\n",
       "    <tr>\n",
       "      <th>2</th>\n",
       "      <td>Shot Type Summary</td>\n",
       "      <td>Dunk</td>\n",
       "      <td>21</td>\n",
       "      <td>22</td>\n",
       "      <td>0.955</td>\n",
       "      <td>0</td>\n",
       "      <td>0</td>\n",
       "      <td>0.000</td>\n",
       "      <td>0.955</td>\n",
       "      <td>0</td>\n",
       "      <td>1.000</td>\n",
       "      <td>0.000</td>\n",
       "      <td>0.000</td>\n",
       "      <td>0.000</td>\n",
       "      <td>1.000</td>\n",
       "      <td>0.000</td>\n",
       "      <td>0</td>\n",
       "      <td>21</td>\n",
       "    </tr>\n",
       "    <tr>\n",
       "      <th>3</th>\n",
       "      <td>Shot Type Summary</td>\n",
       "      <td>Fadeaway</td>\n",
       "      <td>14</td>\n",
       "      <td>30</td>\n",
       "      <td>0.467</td>\n",
       "      <td>1</td>\n",
       "      <td>2</td>\n",
       "      <td>0.500</td>\n",
       "      <td>0.483</td>\n",
       "      <td>0</td>\n",
       "      <td>0.385</td>\n",
       "      <td>0.615</td>\n",
       "      <td>1.000</td>\n",
       "      <td>0.000</td>\n",
       "      <td>0.429</td>\n",
       "      <td>0.571</td>\n",
       "      <td>8</td>\n",
       "      <td>6</td>\n",
       "    </tr>\n",
       "    <tr>\n",
       "      <th>4</th>\n",
       "      <td>Shot Type Summary</td>\n",
       "      <td>Layup</td>\n",
       "      <td>264</td>\n",
       "      <td>386</td>\n",
       "      <td>0.684</td>\n",
       "      <td>0</td>\n",
       "      <td>0</td>\n",
       "      <td>0.000</td>\n",
       "      <td>0.684</td>\n",
       "      <td>40</td>\n",
       "      <td>0.527</td>\n",
       "      <td>0.473</td>\n",
       "      <td>0.000</td>\n",
       "      <td>0.000</td>\n",
       "      <td>0.527</td>\n",
       "      <td>0.473</td>\n",
       "      <td>125</td>\n",
       "      <td>139</td>\n",
       "    </tr>\n",
       "    <tr>\n",
       "      <th>5</th>\n",
       "      <td>Shot Type Summary</td>\n",
       "      <td>Finger Roll</td>\n",
       "      <td>57</td>\n",
       "      <td>66</td>\n",
       "      <td>0.864</td>\n",
       "      <td>0</td>\n",
       "      <td>0</td>\n",
       "      <td>0.000</td>\n",
       "      <td>0.864</td>\n",
       "      <td>0</td>\n",
       "      <td>0.614</td>\n",
       "      <td>0.386</td>\n",
       "      <td>0.000</td>\n",
       "      <td>0.000</td>\n",
       "      <td>0.614</td>\n",
       "      <td>0.386</td>\n",
       "      <td>22</td>\n",
       "      <td>35</td>\n",
       "    </tr>\n",
       "    <tr>\n",
       "      <th>6</th>\n",
       "      <td>Shot Type Summary</td>\n",
       "      <td>Hook Shot</td>\n",
       "      <td>97</td>\n",
       "      <td>141</td>\n",
       "      <td>0.688</td>\n",
       "      <td>0</td>\n",
       "      <td>0</td>\n",
       "      <td>0.000</td>\n",
       "      <td>0.688</td>\n",
       "      <td>5</td>\n",
       "      <td>0.443</td>\n",
       "      <td>0.557</td>\n",
       "      <td>0.000</td>\n",
       "      <td>0.000</td>\n",
       "      <td>0.443</td>\n",
       "      <td>0.557</td>\n",
       "      <td>54</td>\n",
       "      <td>43</td>\n",
       "    </tr>\n",
       "    <tr>\n",
       "      <th>7</th>\n",
       "      <td>Shot Type Summary</td>\n",
       "      <td>Jump Shot</td>\n",
       "      <td>248</td>\n",
       "      <td>444</td>\n",
       "      <td>0.559</td>\n",
       "      <td>57</td>\n",
       "      <td>148</td>\n",
       "      <td>0.385</td>\n",
       "      <td>0.623</td>\n",
       "      <td>4</td>\n",
       "      <td>0.749</td>\n",
       "      <td>0.251</td>\n",
       "      <td>0.842</td>\n",
       "      <td>0.158</td>\n",
       "      <td>0.770</td>\n",
       "      <td>0.230</td>\n",
       "      <td>57</td>\n",
       "      <td>191</td>\n",
       "    </tr>\n",
       "    <tr>\n",
       "      <th>8</th>\n",
       "      <td>Shot Type Summary</td>\n",
       "      <td>Tip Shot</td>\n",
       "      <td>26</td>\n",
       "      <td>51</td>\n",
       "      <td>0.510</td>\n",
       "      <td>0</td>\n",
       "      <td>0</td>\n",
       "      <td>0.000</td>\n",
       "      <td>0.510</td>\n",
       "      <td>0</td>\n",
       "      <td>0.000</td>\n",
       "      <td>1.000</td>\n",
       "      <td>0.000</td>\n",
       "      <td>0.000</td>\n",
       "      <td>0.000</td>\n",
       "      <td>1.000</td>\n",
       "      <td>26</td>\n",
       "      <td>0</td>\n",
       "    </tr>\n",
       "  </tbody>\n",
       "</table>\n",
       "</div>"
      ],
      "text/plain": [
       "           GROUP_SET  GROUP_VALUE  FGM  FGA  FG_PCT  FG3M  FG3A  FG3_PCT  \\\n",
       "0  Shot Type Summary    Alley Oop    0    1   0.000     0     0    0.000   \n",
       "1  Shot Type Summary    Bank Shot   19   24   0.792     0     0    0.000   \n",
       "2  Shot Type Summary         Dunk   21   22   0.955     0     0    0.000   \n",
       "3  Shot Type Summary     Fadeaway   14   30   0.467     1     2    0.500   \n",
       "4  Shot Type Summary        Layup  264  386   0.684     0     0    0.000   \n",
       "5  Shot Type Summary  Finger Roll   57   66   0.864     0     0    0.000   \n",
       "6  Shot Type Summary    Hook Shot   97  141   0.688     0     0    0.000   \n",
       "7  Shot Type Summary    Jump Shot  248  444   0.559    57   148    0.385   \n",
       "8  Shot Type Summary     Tip Shot   26   51   0.510     0     0    0.000   \n",
       "\n",
       "   EFG_PCT  BLKA  PCT_AST_2PM  PCT_UAST_2PM  PCT_AST_3PM  PCT_UAST_3PM  \\\n",
       "0    0.000     0        0.000         0.000        0.000         0.000   \n",
       "1    0.792     0        0.632         0.368        0.000         0.000   \n",
       "2    0.955     0        1.000         0.000        0.000         0.000   \n",
       "3    0.483     0        0.385         0.615        1.000         0.000   \n",
       "4    0.684    40        0.527         0.473        0.000         0.000   \n",
       "5    0.864     0        0.614         0.386        0.000         0.000   \n",
       "6    0.688     5        0.443         0.557        0.000         0.000   \n",
       "7    0.623     4        0.749         0.251        0.842         0.158   \n",
       "8    0.510     0        0.000         1.000        0.000         0.000   \n",
       "\n",
       "   PCT_AST_FGM  PCT_UAST_FGM  FGM_UAST  FGM_AST  \n",
       "0        0.000         0.000         0        0  \n",
       "1        0.632         0.368         7       12  \n",
       "2        1.000         0.000         0       21  \n",
       "3        0.429         0.571         8        6  \n",
       "4        0.527         0.473       125      139  \n",
       "5        0.614         0.386        22       35  \n",
       "6        0.443         0.557        54       43  \n",
       "7        0.770         0.230        57      191  \n",
       "8        0.000         1.000        26        0  "
      ]
     },
     "execution_count": 7,
     "metadata": {},
     "output_type": "execute_result"
    }
   ],
   "source": [
    "jokic_df"
   ]
  },
  {
   "cell_type": "code",
   "execution_count": 8,
   "metadata": {},
   "outputs": [
    {
     "name": "stdout",
     "output_type": "stream",
     "text": [
      "40.08042895442359\n",
      "59.919571045576404\n",
      "38.22485207100591\n",
      "61.77514792899408\n",
      "56.432432432432435\n",
      "43.567567567567565\n"
     ]
    }
   ],
   "source": [
    "tot_FGM_UAST = jokic_df['FGM_UAST'].sum()\n",
    "tot_FGM_AST = jokic_df['FGM_AST'].sum()\n",
    "\n",
    "tot_FGM_UAST2 = embiid_df['FGM_UAST'].sum()\n",
    "tot_FGM_AST2 = embiid_df['FGM_AST'].sum()\n",
    "\n",
    "tot_FGM_UAST3 = giannis_df['FGM_UAST'].sum()\n",
    "tot_FGM_AST3 = giannis_df['FGM_AST'].sum()\n",
    "\n",
    "pct_UAST = tot_FGM_UAST/(tot_FGM_AST+tot_FGM_UAST) * 100\n",
    "pct_AST = tot_FGM_AST/(tot_FGM_AST+tot_FGM_UAST) * 100\n",
    "\n",
    "pct_UAST2 = tot_FGM_UAST2/(tot_FGM_AST2+tot_FGM_UAST2) * 100\n",
    "pct_AST2 = tot_FGM_AST2/(tot_FGM_AST2+tot_FGM_UAST2) * 100\n",
    "\n",
    "pct_UAST3 = tot_FGM_UAST3/(tot_FGM_AST3+tot_FGM_UAST3) * 100\n",
    "pct_AST3 = tot_FGM_AST3/(tot_FGM_AST3+tot_FGM_UAST3) * 100\n",
    "\n",
    "print(pct_UAST)\n",
    "print(pct_AST)\n",
    "\n",
    "print(pct_UAST2)\n",
    "print(pct_AST2)\n",
    "\n",
    "print(pct_UAST3)\n",
    "print(pct_AST3)"
   ]
  },
  {
   "cell_type": "code",
   "execution_count": 9,
   "metadata": {},
   "outputs": [],
   "source": [
    "import os\n",
    "\n",
    "if not os.path.exists(\"Advanced Stats\"):\n",
    "    os.mkdir(\"Advanced Stats\")"
   ]
  },
  {
   "cell_type": "code",
   "execution_count": 12,
   "metadata": {},
   "outputs": [
    {
     "data": {
      "application/vnd.plotly.v1+json": {
       "config": {
        "plotlyServerURL": "https://plot.ly"
       },
       "data": [
        {
         "alignmentgroup": "True",
         "hovertemplate": "Shot Type=Assisted<br>Players=%{x}<br>FGM=%{y}<extra></extra>",
         "legendgroup": "Assisted",
         "marker": {
          "color": "#636efa",
          "pattern": {
           "shape": ""
          }
         },
         "name": "Assisted",
         "offsetgroup": "Assisted",
         "orientation": "v",
         "showlegend": true,
         "textposition": "auto",
         "type": "bar",
         "x": [
          "Jokic",
          "Embiid",
          "Giannis"
         ],
         "xaxis": "x",
         "y": [
          447,
          522,
          403
         ],
         "yaxis": "y"
        },
        {
         "alignmentgroup": "True",
         "hovertemplate": "Shot Type=Unassisted<br>Players=%{x}<br>FGM=%{y}<extra></extra>",
         "legendgroup": "Unassisted",
         "marker": {
          "color": "#EF553B",
          "pattern": {
           "shape": ""
          }
         },
         "name": "Unassisted",
         "offsetgroup": "Unassisted",
         "orientation": "v",
         "showlegend": true,
         "textposition": "auto",
         "type": "bar",
         "x": [
          "Jokic",
          "Embiid",
          "Giannis"
         ],
         "xaxis": "x",
         "y": [
          299,
          323,
          522
         ],
         "yaxis": "y"
        }
       ],
       "layout": {
        "barmode": "relative",
        "legend": {
         "title": {
          "text": "Shot Type"
         },
         "tracegroupgap": 0
        },
        "template": {
         "data": {
          "bar": [
           {
            "error_x": {
             "color": "#2a3f5f"
            },
            "error_y": {
             "color": "#2a3f5f"
            },
            "marker": {
             "line": {
              "color": "#E5ECF6",
              "width": 0.5
             },
             "pattern": {
              "fillmode": "overlay",
              "size": 10,
              "solidity": 0.2
             }
            },
            "type": "bar"
           }
          ],
          "barpolar": [
           {
            "marker": {
             "line": {
              "color": "#E5ECF6",
              "width": 0.5
             },
             "pattern": {
              "fillmode": "overlay",
              "size": 10,
              "solidity": 0.2
             }
            },
            "type": "barpolar"
           }
          ],
          "carpet": [
           {
            "aaxis": {
             "endlinecolor": "#2a3f5f",
             "gridcolor": "white",
             "linecolor": "white",
             "minorgridcolor": "white",
             "startlinecolor": "#2a3f5f"
            },
            "baxis": {
             "endlinecolor": "#2a3f5f",
             "gridcolor": "white",
             "linecolor": "white",
             "minorgridcolor": "white",
             "startlinecolor": "#2a3f5f"
            },
            "type": "carpet"
           }
          ],
          "choropleth": [
           {
            "colorbar": {
             "outlinewidth": 0,
             "ticks": ""
            },
            "type": "choropleth"
           }
          ],
          "contour": [
           {
            "colorbar": {
             "outlinewidth": 0,
             "ticks": ""
            },
            "colorscale": [
             [
              0,
              "#0d0887"
             ],
             [
              0.1111111111111111,
              "#46039f"
             ],
             [
              0.2222222222222222,
              "#7201a8"
             ],
             [
              0.3333333333333333,
              "#9c179e"
             ],
             [
              0.4444444444444444,
              "#bd3786"
             ],
             [
              0.5555555555555556,
              "#d8576b"
             ],
             [
              0.6666666666666666,
              "#ed7953"
             ],
             [
              0.7777777777777778,
              "#fb9f3a"
             ],
             [
              0.8888888888888888,
              "#fdca26"
             ],
             [
              1,
              "#f0f921"
             ]
            ],
            "type": "contour"
           }
          ],
          "contourcarpet": [
           {
            "colorbar": {
             "outlinewidth": 0,
             "ticks": ""
            },
            "type": "contourcarpet"
           }
          ],
          "heatmap": [
           {
            "colorbar": {
             "outlinewidth": 0,
             "ticks": ""
            },
            "colorscale": [
             [
              0,
              "#0d0887"
             ],
             [
              0.1111111111111111,
              "#46039f"
             ],
             [
              0.2222222222222222,
              "#7201a8"
             ],
             [
              0.3333333333333333,
              "#9c179e"
             ],
             [
              0.4444444444444444,
              "#bd3786"
             ],
             [
              0.5555555555555556,
              "#d8576b"
             ],
             [
              0.6666666666666666,
              "#ed7953"
             ],
             [
              0.7777777777777778,
              "#fb9f3a"
             ],
             [
              0.8888888888888888,
              "#fdca26"
             ],
             [
              1,
              "#f0f921"
             ]
            ],
            "type": "heatmap"
           }
          ],
          "heatmapgl": [
           {
            "colorbar": {
             "outlinewidth": 0,
             "ticks": ""
            },
            "colorscale": [
             [
              0,
              "#0d0887"
             ],
             [
              0.1111111111111111,
              "#46039f"
             ],
             [
              0.2222222222222222,
              "#7201a8"
             ],
             [
              0.3333333333333333,
              "#9c179e"
             ],
             [
              0.4444444444444444,
              "#bd3786"
             ],
             [
              0.5555555555555556,
              "#d8576b"
             ],
             [
              0.6666666666666666,
              "#ed7953"
             ],
             [
              0.7777777777777778,
              "#fb9f3a"
             ],
             [
              0.8888888888888888,
              "#fdca26"
             ],
             [
              1,
              "#f0f921"
             ]
            ],
            "type": "heatmapgl"
           }
          ],
          "histogram": [
           {
            "marker": {
             "pattern": {
              "fillmode": "overlay",
              "size": 10,
              "solidity": 0.2
             }
            },
            "type": "histogram"
           }
          ],
          "histogram2d": [
           {
            "colorbar": {
             "outlinewidth": 0,
             "ticks": ""
            },
            "colorscale": [
             [
              0,
              "#0d0887"
             ],
             [
              0.1111111111111111,
              "#46039f"
             ],
             [
              0.2222222222222222,
              "#7201a8"
             ],
             [
              0.3333333333333333,
              "#9c179e"
             ],
             [
              0.4444444444444444,
              "#bd3786"
             ],
             [
              0.5555555555555556,
              "#d8576b"
             ],
             [
              0.6666666666666666,
              "#ed7953"
             ],
             [
              0.7777777777777778,
              "#fb9f3a"
             ],
             [
              0.8888888888888888,
              "#fdca26"
             ],
             [
              1,
              "#f0f921"
             ]
            ],
            "type": "histogram2d"
           }
          ],
          "histogram2dcontour": [
           {
            "colorbar": {
             "outlinewidth": 0,
             "ticks": ""
            },
            "colorscale": [
             [
              0,
              "#0d0887"
             ],
             [
              0.1111111111111111,
              "#46039f"
             ],
             [
              0.2222222222222222,
              "#7201a8"
             ],
             [
              0.3333333333333333,
              "#9c179e"
             ],
             [
              0.4444444444444444,
              "#bd3786"
             ],
             [
              0.5555555555555556,
              "#d8576b"
             ],
             [
              0.6666666666666666,
              "#ed7953"
             ],
             [
              0.7777777777777778,
              "#fb9f3a"
             ],
             [
              0.8888888888888888,
              "#fdca26"
             ],
             [
              1,
              "#f0f921"
             ]
            ],
            "type": "histogram2dcontour"
           }
          ],
          "mesh3d": [
           {
            "colorbar": {
             "outlinewidth": 0,
             "ticks": ""
            },
            "type": "mesh3d"
           }
          ],
          "parcoords": [
           {
            "line": {
             "colorbar": {
              "outlinewidth": 0,
              "ticks": ""
             }
            },
            "type": "parcoords"
           }
          ],
          "pie": [
           {
            "automargin": true,
            "type": "pie"
           }
          ],
          "scatter": [
           {
            "fillpattern": {
             "fillmode": "overlay",
             "size": 10,
             "solidity": 0.2
            },
            "type": "scatter"
           }
          ],
          "scatter3d": [
           {
            "line": {
             "colorbar": {
              "outlinewidth": 0,
              "ticks": ""
             }
            },
            "marker": {
             "colorbar": {
              "outlinewidth": 0,
              "ticks": ""
             }
            },
            "type": "scatter3d"
           }
          ],
          "scattercarpet": [
           {
            "marker": {
             "colorbar": {
              "outlinewidth": 0,
              "ticks": ""
             }
            },
            "type": "scattercarpet"
           }
          ],
          "scattergeo": [
           {
            "marker": {
             "colorbar": {
              "outlinewidth": 0,
              "ticks": ""
             }
            },
            "type": "scattergeo"
           }
          ],
          "scattergl": [
           {
            "marker": {
             "colorbar": {
              "outlinewidth": 0,
              "ticks": ""
             }
            },
            "type": "scattergl"
           }
          ],
          "scattermapbox": [
           {
            "marker": {
             "colorbar": {
              "outlinewidth": 0,
              "ticks": ""
             }
            },
            "type": "scattermapbox"
           }
          ],
          "scatterpolar": [
           {
            "marker": {
             "colorbar": {
              "outlinewidth": 0,
              "ticks": ""
             }
            },
            "type": "scatterpolar"
           }
          ],
          "scatterpolargl": [
           {
            "marker": {
             "colorbar": {
              "outlinewidth": 0,
              "ticks": ""
             }
            },
            "type": "scatterpolargl"
           }
          ],
          "scatterternary": [
           {
            "marker": {
             "colorbar": {
              "outlinewidth": 0,
              "ticks": ""
             }
            },
            "type": "scatterternary"
           }
          ],
          "surface": [
           {
            "colorbar": {
             "outlinewidth": 0,
             "ticks": ""
            },
            "colorscale": [
             [
              0,
              "#0d0887"
             ],
             [
              0.1111111111111111,
              "#46039f"
             ],
             [
              0.2222222222222222,
              "#7201a8"
             ],
             [
              0.3333333333333333,
              "#9c179e"
             ],
             [
              0.4444444444444444,
              "#bd3786"
             ],
             [
              0.5555555555555556,
              "#d8576b"
             ],
             [
              0.6666666666666666,
              "#ed7953"
             ],
             [
              0.7777777777777778,
              "#fb9f3a"
             ],
             [
              0.8888888888888888,
              "#fdca26"
             ],
             [
              1,
              "#f0f921"
             ]
            ],
            "type": "surface"
           }
          ],
          "table": [
           {
            "cells": {
             "fill": {
              "color": "#EBF0F8"
             },
             "line": {
              "color": "white"
             }
            },
            "header": {
             "fill": {
              "color": "#C8D4E3"
             },
             "line": {
              "color": "white"
             }
            },
            "type": "table"
           }
          ]
         },
         "layout": {
          "annotationdefaults": {
           "arrowcolor": "#2a3f5f",
           "arrowhead": 0,
           "arrowwidth": 1
          },
          "autotypenumbers": "strict",
          "coloraxis": {
           "colorbar": {
            "outlinewidth": 0,
            "ticks": ""
           }
          },
          "colorscale": {
           "diverging": [
            [
             0,
             "#8e0152"
            ],
            [
             0.1,
             "#c51b7d"
            ],
            [
             0.2,
             "#de77ae"
            ],
            [
             0.3,
             "#f1b6da"
            ],
            [
             0.4,
             "#fde0ef"
            ],
            [
             0.5,
             "#f7f7f7"
            ],
            [
             0.6,
             "#e6f5d0"
            ],
            [
             0.7,
             "#b8e186"
            ],
            [
             0.8,
             "#7fbc41"
            ],
            [
             0.9,
             "#4d9221"
            ],
            [
             1,
             "#276419"
            ]
           ],
           "sequential": [
            [
             0,
             "#0d0887"
            ],
            [
             0.1111111111111111,
             "#46039f"
            ],
            [
             0.2222222222222222,
             "#7201a8"
            ],
            [
             0.3333333333333333,
             "#9c179e"
            ],
            [
             0.4444444444444444,
             "#bd3786"
            ],
            [
             0.5555555555555556,
             "#d8576b"
            ],
            [
             0.6666666666666666,
             "#ed7953"
            ],
            [
             0.7777777777777778,
             "#fb9f3a"
            ],
            [
             0.8888888888888888,
             "#fdca26"
            ],
            [
             1,
             "#f0f921"
            ]
           ],
           "sequentialminus": [
            [
             0,
             "#0d0887"
            ],
            [
             0.1111111111111111,
             "#46039f"
            ],
            [
             0.2222222222222222,
             "#7201a8"
            ],
            [
             0.3333333333333333,
             "#9c179e"
            ],
            [
             0.4444444444444444,
             "#bd3786"
            ],
            [
             0.5555555555555556,
             "#d8576b"
            ],
            [
             0.6666666666666666,
             "#ed7953"
            ],
            [
             0.7777777777777778,
             "#fb9f3a"
            ],
            [
             0.8888888888888888,
             "#fdca26"
            ],
            [
             1,
             "#f0f921"
            ]
           ]
          },
          "colorway": [
           "#636efa",
           "#EF553B",
           "#00cc96",
           "#ab63fa",
           "#FFA15A",
           "#19d3f3",
           "#FF6692",
           "#B6E880",
           "#FF97FF",
           "#FECB52"
          ],
          "font": {
           "color": "#2a3f5f"
          },
          "geo": {
           "bgcolor": "white",
           "lakecolor": "white",
           "landcolor": "#E5ECF6",
           "showlakes": true,
           "showland": true,
           "subunitcolor": "white"
          },
          "hoverlabel": {
           "align": "left"
          },
          "hovermode": "closest",
          "mapbox": {
           "style": "light"
          },
          "paper_bgcolor": "white",
          "plot_bgcolor": "#E5ECF6",
          "polar": {
           "angularaxis": {
            "gridcolor": "white",
            "linecolor": "white",
            "ticks": ""
           },
           "bgcolor": "#E5ECF6",
           "radialaxis": {
            "gridcolor": "white",
            "linecolor": "white",
            "ticks": ""
           }
          },
          "scene": {
           "xaxis": {
            "backgroundcolor": "#E5ECF6",
            "gridcolor": "white",
            "gridwidth": 2,
            "linecolor": "white",
            "showbackground": true,
            "ticks": "",
            "zerolinecolor": "white"
           },
           "yaxis": {
            "backgroundcolor": "#E5ECF6",
            "gridcolor": "white",
            "gridwidth": 2,
            "linecolor": "white",
            "showbackground": true,
            "ticks": "",
            "zerolinecolor": "white"
           },
           "zaxis": {
            "backgroundcolor": "#E5ECF6",
            "gridcolor": "white",
            "gridwidth": 2,
            "linecolor": "white",
            "showbackground": true,
            "ticks": "",
            "zerolinecolor": "white"
           }
          },
          "shapedefaults": {
           "line": {
            "color": "#2a3f5f"
           }
          },
          "ternary": {
           "aaxis": {
            "gridcolor": "white",
            "linecolor": "white",
            "ticks": ""
           },
           "baxis": {
            "gridcolor": "white",
            "linecolor": "white",
            "ticks": ""
           },
           "bgcolor": "#E5ECF6",
           "caxis": {
            "gridcolor": "white",
            "linecolor": "white",
            "ticks": ""
           }
          },
          "title": {
           "x": 0.05
          },
          "xaxis": {
           "automargin": true,
           "gridcolor": "white",
           "linecolor": "white",
           "ticks": "",
           "title": {
            "standoff": 15
           },
           "zerolinecolor": "white",
           "zerolinewidth": 2
          },
          "yaxis": {
           "automargin": true,
           "gridcolor": "white",
           "linecolor": "white",
           "ticks": "",
           "title": {
            "standoff": 15
           },
           "zerolinecolor": "white",
           "zerolinewidth": 2
          }
         }
        },
        "title": {
         "text": "MVP Candidates FGM (Unassisted and Assisted) 2022-23 Season"
        },
        "xaxis": {
         "anchor": "y",
         "domain": [
          0,
          1
         ],
         "title": {
          "text": "Players"
         }
        },
        "yaxis": {
         "anchor": "x",
         "domain": [
          0,
          1
         ],
         "title": {
          "text": "FGM"
         }
        }
       }
      }
     },
     "metadata": {},
     "output_type": "display_data"
    }
   ],
   "source": [
    "import plotly.express as px\n",
    "import pandas as pd\n",
    "\n",
    "df = pd.DataFrame()\n",
    "\n",
    "Players = ['Jokic', 'Jokic', 'Embiid', 'Embiid', 'Giannis', 'Giannis']\n",
    "Type_of_shot = ['Assisted', 'Unassisted', 'Assisted', 'Unassisted', 'Assisted', 'Unassisted']\n",
    "Total = [tot_FGM_AST, tot_FGM_UAST, tot_FGM_AST2, tot_FGM_UAST2, tot_FGM_AST3, tot_FGM_UAST3]\n",
    "\n",
    "df['Players'] = Players\n",
    "df['Shot Type'] = Type_of_shot\n",
    "df['FGM'] = Total\n",
    "\n",
    "long_df = df\n",
    "\n",
    "fig = px.bar(df, x=\"Players\", y=\"FGM\", color=\"Shot Type\", title=\"MVP Candidates FGM (Unassisted and Assisted) 2022-23 Season\")\n",
    "fig.show()"
   ]
  },
  {
   "cell_type": "code",
   "execution_count": null,
   "metadata": {},
   "outputs": [],
   "source": []
  }
 ],
 "metadata": {
  "kernelspec": {
   "display_name": "Python 3",
   "language": "python",
   "name": "python3"
  },
  "language_info": {
   "codemirror_mode": {
    "name": "ipython",
    "version": 3
   },
   "file_extension": ".py",
   "mimetype": "text/x-python",
   "name": "python",
   "nbconvert_exporter": "python",
   "pygments_lexer": "ipython3",
   "version": "3.9.6 (v3.9.6:db3ff76da1, Jun 28 2021, 11:14:58) \n[Clang 12.0.5 (clang-1205.0.22.9)]"
  },
  "orig_nbformat": 4,
  "vscode": {
   "interpreter": {
    "hash": "aee8b7b246df8f9039afb4144a1f6fd8d2ca17a180786b69acc140d282b71a49"
   }
  }
 },
 "nbformat": 4,
 "nbformat_minor": 2
}
